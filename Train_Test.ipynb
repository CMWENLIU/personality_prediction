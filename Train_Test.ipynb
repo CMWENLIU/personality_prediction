{
 "cells": [
  {
   "cell_type": "code",
   "execution_count": 3,
   "metadata": {},
   "outputs": [],
   "source": [
    "import matplotlib\n",
    "%matplotlib inline\n",
    "import matplotlib.pyplot as plt\n",
    "import pandas as pd\n",
    "import collections\n",
    "import os\n",
    "from google.cloud import vision"
   ]
  },
  {
   "cell_type": "code",
   "execution_count": 4,
   "metadata": {},
   "outputs": [],
   "source": [
    "#pdf = pd.read_pickle(\"data_opioid_mul.pickle\")\n",
    "#pdf"
   ]
  },
  {
   "cell_type": "code",
   "execution_count": 6,
   "metadata": {},
   "outputs": [
    {
     "name": "stdout",
     "output_type": "stream",
     "text": [
      "14298\n",
      "12854\n"
     ]
    }
   ],
   "source": [
    "df = pd.read_csv('Non_opioid_multi_Img.csv')\n",
    "\n",
    "labellist = df['Set-ID']\n",
    "#print (len(labellist))\n",
    "\n",
    "counter=collections.Counter(labellist)\n",
    "print (len(counter))\n",
    "#for key, value in counter.items() :\n",
    "#    print (key, value)\n",
    "new = {key: value for key, value in counter.items() if value > 1 and value < 6}\n",
    "print (len(new))\n",
    "count_fre = collections.Counter(counter.values())\n",
    "newdf = pd.DataFrame(list(zip(count_fre.keys(),count_fre.values())), \n",
    "               columns =['Name', 'val']) \n",
    "newdf.to_csv('Non_opioid_counter.csv')"
   ]
  },
  {
   "cell_type": "code",
   "execution_count": 40,
   "metadata": {},
   "outputs": [],
   "source": [
    "final_list = new.keys()\n",
    "df = df[df['Set-ID'].isin(final_list)]\n",
    "df.to_csv('new_opioid_multi_Img.csv')"
   ]
  },
  {
   "cell_type": "code",
   "execution_count": 27,
   "metadata": {},
   "outputs": [
    {
     "data": {
      "image/png": "[encoded data removed]",
      "text/plain": [
       "<Figure size 432x288 with 1 Axes>"
      ]
     },
     "metadata": {
      "needs_background": "light"
     },
     "output_type": "display_data"
    }
   ],
   "source": [
    "plt.bar(count_fre.keys(),count_fre.values(), label=\"Image number frequency distribution\",\n",
    "       color='b')\n",
    "plt.legend()\n",
    "plt.xlabel('Number of images in unique drug')\n",
    "plt.ylabel('Frequency')\n",
    "plt.show()"
   ]
  },
  {
   "cell_type": "code",
   "execution_count": null,
   "metadata": {},
   "outputs": [],
   "source": []
  }
 ],
 "metadata": {
  "kernelspec": {
   "display_name": "Python 3",
   "language": "python",
   "name": "python3"
  },
  "language_info": {
   "codemirror_mode": {
    "name": "ipython",
    "version": 3
   },
   "file_extension": ".py",
   "mimetype": "text/x-python",
   "name": "python",
   "nbconvert_exporter": "python",
   "pygments_lexer": "ipython3",
   "version": "3.6.7"
  }
 },
 "nbformat": 4,
 "nbformat_minor": 2
}
